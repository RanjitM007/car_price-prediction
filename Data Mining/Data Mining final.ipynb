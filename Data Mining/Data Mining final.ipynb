{
 "cells": [
  {
   "cell_type": "code",
   "execution_count": 1,
   "id": "922fcc0f",
   "metadata": {},
   "outputs": [],
   "source": [
    "import pandas as pd\n",
    "import selenium\n",
    "from selenium import webdriver\n",
    "from selenium.common.exceptions import StaleElementReferenceException, NoSuchElementException,ElementClickInterceptedException\n",
    "import time\n"
   ]
  },
  {
   "cell_type": "code",
   "execution_count": 2,
   "id": "6dfff08f",
   "metadata": {},
   "outputs": [],
   "source": [
    "cars_link=[]\n",
    "car=[]\n",
    "car_name=[]\n",
    "fuel_type=[]\n",
    "owner=[]\n",
    "driven=[]\n",
    "register=[]\n",
    "history=[]\n",
    "Last_Service=[]\n",
    "Transmission=[]\n",
    "Insurance=[]\n",
    "price=[]\n",
    "air_bag=[]\n",
    "Central_Locking=[]\n",
    "Seat_Upholstery=[]\n",
    "Music_System=[]\n",
    "Rear_AC=[]\n",
    "ORVM=[]\n",
    "Power_Windows=[]\n",
    "Headlamps=[]\n",
    "ABS=[]\n",
    "Driver_Seat_Adjustment=[]"
   ]
  },
  {
   "cell_type": "code",
   "execution_count": 3,
   "id": "e9e62050",
   "metadata": {},
   "outputs": [],
   "source": [
    "#chorme_v=Version 96.0.4664.45 (Official Build) (64-bit)\n",
    "#driver_v=96.0.4664.45\n",
    "dr=webdriver.Chrome(r\"C:\\Users\\Ranjit M\\Downloads\\chromedriver_win32 (5)\\chromedriver.exe\")\n",
    "url=\"https://www.cars24.com/buy-used-cars/\"\n",
    "dr.get(url)\n",
    "time.sleep(10)"
   ]
  },
  {
   "cell_type": "code",
   "execution_count": 4,
   "id": "422b8323",
   "metadata": {},
   "outputs": [],
   "source": [
    "#closing  the pop up screen\n",
    "pop=dr.find_element_by_xpath(\"//div[@class='float-right TBxAN']\")\n",
    "pop.click()\n",
    "time.sleep(10)"
   ]
  },
  {
   "cell_type": "markdown",
   "id": "e7751789",
   "metadata": {},
   "source": [
    "# functions"
   ]
  },
  {
   "cell_type": "code",
   "execution_count": 27,
   "id": "d66a6a7e",
   "metadata": {},
   "outputs": [],
   "source": [
    "\n",
    "\n",
    "def scroll():\n",
    "    for _ in range(1000):\n",
    "        dr.execute_script(\"window.scrollBy(0,10000000)\")\n",
    "    all_cars=dr.find_elements_by_xpath(\"//div[@class='col-4']/a\")\n",
    "    for i in all_cars:\n",
    "        cars_link.append(i.get_attribute('href'))\n",
    "\n",
    "\n",
    "\n",
    "def basic():\n",
    "    try:\n",
    "        name=dr.find_element_by_xpath(\"//div[@class='_10kZS']/h2\")\n",
    "        car_name.append(name.text)\n",
    "    except NoSuchElementException:\n",
    "        car_name.append('')\n",
    "    # model exctract from car_name with the help of pandas\n",
    "    try:\n",
    "        fuel=dr.find_element_by_xpath(\"//ul[@class='_2tp8h']/li[3]\")\n",
    "        fuel_type.append(fuel.text)\n",
    "    except NoSuchElementException:\n",
    "        fuel_type.append('')\n",
    "    try:\n",
    "        ownr=dr.find_element_by_xpath(\"//ul[@class='_2tp8h']/li[5]\")\n",
    "        owner.append(ownr.text)\n",
    "    except NoSuchElementException:\n",
    "        owner.append('')\n",
    "    try:\n",
    "        drivn=dr.find_element_by_xpath(\"//ul[@class='_2tp8h']/li[1]\")\n",
    "        driven.append(drivn.text)\n",
    "    except NoSuchElementException:  \n",
    "        driven.append('')\n",
    "    try:\n",
    "        rgstr=dr.find_element_by_xpath(\"//ul[@class='_2tp8h']/li[7]\")\n",
    "        register.append(rgstr.text)\n",
    "    except NoSuchElementException:\n",
    "        register.append('')\n",
    "    try:\n",
    "        hstry=dr.find_element_by_xpath(\"//li[1][@class='tHlIu']/strong\")\n",
    "        history.append(hstry.text)\n",
    "    except NoSuchElementException:\n",
    "        history.append('')\n",
    "    try:\n",
    "        Last_Servc=dr.find_element_by_xpath(\"//li[5][@class='tHlIu']/strong\")\n",
    "        Last_Service.append(Last_Servc.text)\n",
    "    except NoSuchElementException:\n",
    "        Last_Service.append('')\n",
    "    try:\n",
    "        Transmission_=dr.find_element_by_xpath(\"//li[6][@class='tHlIu']/strong\")\n",
    "        Transmission.append(Transmission_.text)\n",
    "    except NoSuchElementException:\n",
    "        Transmission.append('')\n",
    "    try:\n",
    "        Insurance_=dr.find_element_by_xpath(\"//li[8][@class='tHlIu']/strong\")\n",
    "        Insurance.append(Insurance_.text)\n",
    "    except NoSuchElementException:\n",
    "        Insurance.append('')\n",
    "    try:\n",
    "        price_=dr.find_element_by_xpath(\"//strong[@class='_2yYvS']/span\")\n",
    "        price.append(price_.text)\n",
    "    except NoSuchElementException:\n",
    "        price.append('')\n",
    "        \n",
    "        \n",
    "def Features():\n",
    "    try:\n",
    "        air=dr.find_element_by_xpath(\"//li[1][@class='tHlIu']/strong\")\n",
    "        air_bag.append(air.text)\n",
    "    except NoSuchElementException:\n",
    "        air_bag.append('')\n",
    "    try:\n",
    "        cntrl=dr.find_element_by_xpath(\"//li[2][@class='tHlIu']/strong\")\n",
    "        Central_Locking.append(cntrl.text)\n",
    "    except NoSuchElementException:\n",
    "        Central_Locking.append('')\n",
    "    try:\n",
    "        Seat=dr.find_element_by_xpath(\"//li[3][@class='tHlIu']/strong\")\n",
    "        Seat_Upholstery.append(Seat.text)\n",
    "    except NoSuchElementException:\n",
    "        Seat_Upholstery.append('')\n",
    "    try:\n",
    "        Music=dr.find_element_by_xpath(\"//li[4][@class='tHlIu']/strong\")\n",
    "        Music_System.append(Music.text)\n",
    "    except NoSuchElementException:\n",
    "        Music_System.append('')\n",
    "    try:\n",
    "        ac=dr.find_element_by_xpath(\"//li[5][@class='tHlIu']/strong\")\n",
    "        Rear_AC.append(ac.text)\n",
    "    except NoSuchElementException:\n",
    "        Rear_AC.append('')\n",
    "    try:\n",
    "        ORVMs=dr.find_element_by_xpath(\"//li[6][@class='tHlIu']/strong\")\n",
    "        ORVM.append(ORVMs.text)\n",
    "    except NoSuchElementException:\n",
    "        ORVM.append('')\n",
    "    try:\n",
    "        Power_Wind=dr.find_element_by_xpath(\"//li[7][@class='tHlIu']/strong\")\n",
    "        Power_Windows.append(Power_Wind.text)\n",
    "    except NoSuchElementException:\n",
    "        Power_Windows.append('')\n",
    "    try:\n",
    "        head=dr.find_element_by_xpath(\"//li[8][@class='tHlIu']/strong\")\n",
    "        Headlamps.append(head.text)\n",
    "    except NoSuchElementException:\n",
    "        Headlamps.append('')\n",
    "    try:\n",
    "        ab=dr.find_element_by_xpath(\"//li[9][@class='tHlIu']/strong\")\n",
    "        ABS.append(ab.text)\n",
    "    except NoSuchElementException:\n",
    "        ABS.append('')\n",
    "    try:\n",
    "        dsa=dr.find_element_by_xpath(\"//li[10][@class='tHlIu']/strong\")\n",
    "        Driver_Seat_Adjustment.append(dsa.text)\n",
    "    except NoSuchElementException:\n",
    "        Driver_Seat_Adjustment.append('')\n",
    "        \n",
    "    \n",
    "        \n",
    "    \n",
    "def view_all():\n",
    "    view_all=dr.find_element_by_xpath(\"//button[@class='btn  _2iiQB _3qpfi ']\")\n",
    "    view_all.click()\n",
    "\n",
    "def extract():\n",
    "    view_all()\n",
    "    scroll()\n",
    "\n",
    "def mearge():\n",
    "    basic()\n",
    "    Features()\n",
    "    \n",
    "    \n",
    "def loc():\n",
    "    loc=dr.find_element_by_xpath(\"//div[@class='col-md-3 _2VocW']/p/span\")\n",
    "    loc.click()\n",
    "    "
   ]
  },
  {
   "cell_type": "code",
   "execution_count": null,
   "id": "21cce2ba",
   "metadata": {},
   "outputs": [],
   "source": []
  },
  {
   "cell_type": "code",
   "execution_count": 6,
   "id": "d18751cd",
   "metadata": {},
   "outputs": [],
   "source": [
    "#Itireting  to loaction page \n",
    "loc()"
   ]
  },
  {
   "cell_type": "code",
   "execution_count": 7,
   "id": "85dca01b",
   "metadata": {},
   "outputs": [],
   "source": [
    "#collecting all citys name\n",
    "city_name=[]\n",
    "gct=dr.find_elements_by_xpath(\"//ul[@class='_16Bvy']/li\")\n",
    "for i in gct:\n",
    "    city_name.append(i.get_attribute('data-title'))"
   ]
  },
  {
   "cell_type": "code",
   "execution_count": 8,
   "id": "6efa451b",
   "metadata": {},
   "outputs": [],
   "source": [
    "#other city name\n",
    "other_ct=dr.find_elements_by_xpath(\"//div[@class='container p-0']/ul/div/li/span\")\n",
    "for i in other_ct:\n",
    "    city_name.append(i.text)\n",
    "    "
   ]
  },
  {
   "cell_type": "code",
   "execution_count": 9,
   "id": "dac21443",
   "metadata": {},
   "outputs": [
    {
     "data": {
      "text/plain": [
       "['New Delhi',\n",
       " 'Noida',\n",
       " 'Gurgaon',\n",
       " 'Mumbai',\n",
       " 'Pune',\n",
       " 'Bengaluru',\n",
       " 'Hyderabad',\n",
       " 'Chennai',\n",
       " 'Kolkata',\n",
       " 'Ahmedabad',\n",
       " 'Agra',\n",
       " 'Ajmer',\n",
       " 'Allahabad',\n",
       " 'Alwar',\n",
       " 'Amritsar',\n",
       " 'Aurangabad',\n",
       " 'Bareilly',\n",
       " 'Bhopal',\n",
       " 'Bhubaneswar',\n",
       " 'Calicut',\n",
       " 'Chandigarh',\n",
       " 'Coimbatore',\n",
       " 'Dehradun',\n",
       " 'Dhanbad',\n",
       " 'Durgapur',\n",
       " 'Faridabad',\n",
       " 'Ghaziabad',\n",
       " 'Gorakhpur',\n",
       " 'Guwahati',\n",
       " 'Gwalior',\n",
       " 'Hisar',\n",
       " 'Hubli',\n",
       " 'Indore',\n",
       " 'Jabalpur',\n",
       " 'Jaipur',\n",
       " 'Jalandhar',\n",
       " 'Jamshedpur',\n",
       " 'Jodhpur',\n",
       " 'Kanpur',\n",
       " 'Kochi',\n",
       " 'Kolhapur',\n",
       " 'Kota',\n",
       " 'Kottayam',\n",
       " 'Lucknow',\n",
       " 'Ludhiana',\n",
       " 'Madurai',\n",
       " 'Mangalore',\n",
       " 'Meerut',\n",
       " 'Mohali',\n",
       " 'Mysore',\n",
       " 'Nagpur',\n",
       " 'Nasik',\n",
       " 'Panipat',\n",
       " 'Patna',\n",
       " 'Purnia',\n",
       " 'Raipur',\n",
       " 'Rajkot',\n",
       " 'Ramnagara',\n",
       " 'Ranchi',\n",
       " 'Rohtak',\n",
       " 'Salem',\n",
       " 'Siliguri',\n",
       " 'Sonipat',\n",
       " 'Surat',\n",
       " 'Thrissur',\n",
       " 'Tiruchirappalli',\n",
       " 'Trivandrum',\n",
       " 'Udaipur',\n",
       " 'Vadodara',\n",
       " 'Varanasi',\n",
       " 'Vijayawada',\n",
       " 'Visakhapatnam',\n",
       " 'Zirakpur']"
      ]
     },
     "execution_count": 9,
     "metadata": {},
     "output_type": "execute_result"
    }
   ],
   "source": [
    "city_name"
   ]
  },
  {
   "cell_type": "code",
   "execution_count": 10,
   "id": "562430ff",
   "metadata": {},
   "outputs": [],
   "source": [
    "def data():\n",
    "    dr.get(url)\n",
    "    time.sleep(5)\n",
    "    try:\n",
    "        pop=dr.find_element_by_xpath(\"//div[@class='float-right TBxAN']\")\n",
    "        pop.click()\n",
    "        time.sleep(2)\n",
    "    except:\n",
    "        print(\"No pop-up page Avilable\")\n",
    "    loc()\n",
    "    "
   ]
  },
  {
   "cell_type": "code",
   "execution_count": 11,
   "id": "5bac2992",
   "metadata": {},
   "outputs": [
    {
     "data": {
      "text/plain": [
       "'\\'loc()\\ndr.find_element_by_xpath(\"//li[@data-title=\\'Noida\\']\").click()\\nextract()\\nloc()\\ndr.find_element_by_xpath(\"//li[@data-title=\\'Gurgaon\\']\").click()\\nextract()\\nloc()'"
      ]
     },
     "execution_count": 11,
     "metadata": {},
     "output_type": "execute_result"
    }
   ],
   "source": [
    "dr.find_element_by_xpath(\"//li[@data-title='New Delhi']\").click()\n",
    "extract()\n",
    "''''loc()\n",
    "dr.find_element_by_xpath(\"//li[@data-title='Noida']\").click()\n",
    "extract()\n",
    "loc()\n",
    "dr.find_element_by_xpath(\"//li[@data-title='Gurgaon']\").click()\n",
    "extract()\n",
    "loc()'''\n"
   ]
  },
  {
   "cell_type": "code",
   "execution_count": null,
   "id": "7a116cc5",
   "metadata": {},
   "outputs": [],
   "source": []
  },
  {
   "cell_type": "code",
   "execution_count": 12,
   "id": "30ed8fd4",
   "metadata": {},
   "outputs": [
    {
     "name": "stdout",
     "output_type": "stream",
     "text": [
      "No pop-up page Avilable\n"
     ]
    }
   ],
   "source": [
    "data()\n",
    "dr.find_element_by_xpath(\"//li[@data-title='Noida']\").click()\n",
    "extract()"
   ]
  },
  {
   "cell_type": "code",
   "execution_count": 13,
   "id": "4a79d360",
   "metadata": {},
   "outputs": [
    {
     "name": "stdout",
     "output_type": "stream",
     "text": [
      "No pop-up page Avilable\n"
     ]
    }
   ],
   "source": [
    "data()\n",
    "dr.find_element_by_xpath(\"//li[@data-title='Gurgaon']\").click()\n",
    "extract()"
   ]
  },
  {
   "cell_type": "code",
   "execution_count": 14,
   "id": "c8fbb6a6",
   "metadata": {},
   "outputs": [
    {
     "name": "stdout",
     "output_type": "stream",
     "text": [
      "No pop-up page Avilable\n"
     ]
    }
   ],
   "source": [
    "data()\n",
    "dr.find_element_by_xpath(\"//li[@data-title='Mumbai']\").click()\n",
    "extract()"
   ]
  },
  {
   "cell_type": "code",
   "execution_count": 15,
   "id": "a2bf6f5f",
   "metadata": {},
   "outputs": [
    {
     "name": "stdout",
     "output_type": "stream",
     "text": [
      "No pop-up page Avilable\n",
      "Data Fetch in First Attempt\n"
     ]
    }
   ],
   "source": [
    "try:\n",
    "    data()\n",
    "    dr.find_element_by_xpath(\"//li[@data-title='Pune']\").click()\n",
    "    extract()\n",
    "    print('Data Fetch in First Attempt')\n",
    "except:\n",
    "    try:\n",
    "        data()\n",
    "        dr.find_element_by_xpath(\"//li[@data-title='Pune']\").click()\n",
    "        extract()\n",
    "        print('Data Fetch in Second  Attempt')\n",
    "    except:\n",
    "        print('Unable To Fetch Data')"
   ]
  },
  {
   "cell_type": "code",
   "execution_count": 16,
   "id": "0023df9b",
   "metadata": {},
   "outputs": [
    {
     "name": "stdout",
     "output_type": "stream",
     "text": [
      "No pop-up page Avilable\n",
      "No pop-up page Avilable\n",
      "Data Fetch in Second  Attempt\n",
      "1984\n"
     ]
    }
   ],
   "source": [
    "try:\n",
    "    data()\n",
    "    dr.find_element_by_xpath(\"//li[@data-title='Bengaluru']\").click()\n",
    "    extract()\n",
    "    print('Data Fetch in First Attempt')\n",
    "except:\n",
    "    try:\n",
    "        data()\n",
    "        dr.find_element_by_xpath(\"//li[@data-title='Bengaluru']\").click()\n",
    "        extract()\n",
    "        print('Data Fetch in Second  Attempt')\n",
    "    except:\n",
    "        print('Unable To Fetch Data')\n",
    "print(len(cars_link))"
   ]
  },
  {
   "cell_type": "code",
   "execution_count": 17,
   "id": "850b5d8b",
   "metadata": {},
   "outputs": [
    {
     "name": "stdout",
     "output_type": "stream",
     "text": [
      "No pop-up page Avilable\n",
      "Data Fetch in First Attempt\n",
      "2044\n"
     ]
    }
   ],
   "source": [
    "try:\n",
    "    data()\n",
    "    dr.find_element_by_xpath(\"//li[@data-title='Hyderabad']\").click()\n",
    "    extract()\n",
    "    print('Data Fetch in First Attempt')\n",
    "except:\n",
    "    try:\n",
    "        data()\n",
    "        dr.find_element_by_xpath(\"//li[@data-title='Hyderabad']\").click()\n",
    "        extract()\n",
    "        print('Data Fetch in Second  Attempt')\n",
    "    except:\n",
    "        print('Unable To Fetch Data')\n",
    "print(len(cars_link))"
   ]
  },
  {
   "cell_type": "code",
   "execution_count": 18,
   "id": "73a2b7ca",
   "metadata": {},
   "outputs": [
    {
     "name": "stdout",
     "output_type": "stream",
     "text": [
      "No pop-up page Avilable\n",
      "Data Fetch in First Attempt\n",
      "2326\n"
     ]
    }
   ],
   "source": [
    "try:\n",
    "    data()\n",
    "    dr.find_element_by_xpath(\"//li[@data-title='Chennai']\").click()\n",
    "    extract()\n",
    "    print('Data Fetch in First Attempt')\n",
    "except:\n",
    "    try:\n",
    "        data()\n",
    "        dr.find_element_by_xpath(\"//li[@data-title='Chennai']\").click()\n",
    "        extract()\n",
    "        print('Data Fetch in Second  Attempt')\n",
    "    except:\n",
    "        print('Unable To Fetch Data')\n",
    "print(len(cars_link))"
   ]
  },
  {
   "cell_type": "code",
   "execution_count": 19,
   "id": "bff55fe4",
   "metadata": {},
   "outputs": [
    {
     "name": "stdout",
     "output_type": "stream",
     "text": [
      "No pop-up page Avilable\n",
      "Data Fetch in First Attempt\n",
      "2513\n"
     ]
    }
   ],
   "source": [
    "try:\n",
    "    data()\n",
    "    dr.find_element_by_xpath(\"//li[@data-title='Kolkata']\").click()\n",
    "    extract()\n",
    "    print('Data Fetch in First Attempt')\n",
    "except:\n",
    "    try:\n",
    "        data()\n",
    "        dr.find_element_by_xpath(\"//li[@data-title='Kolkata']\").click()\n",
    "        extract()\n",
    "        print('Data Fetch in Second  Attempt')\n",
    "    except:\n",
    "        print('Unable To Fetch Data')\n",
    "print(len(cars_link))"
   ]
  },
  {
   "cell_type": "code",
   "execution_count": 20,
   "id": "94ff8fc2",
   "metadata": {},
   "outputs": [
    {
     "name": "stdout",
     "output_type": "stream",
     "text": [
      "No pop-up page Avilable\n",
      "Data Fetch in First Attempt\n",
      "2820\n"
     ]
    }
   ],
   "source": [
    "try:\n",
    "    data()\n",
    "    dr.find_element_by_xpath(\"//li[@data-title='Ahmedabad']\").click()\n",
    "    extract()\n",
    "    print('Data Fetch in First Attempt')\n",
    "except:\n",
    "    try:\n",
    "        data()\n",
    "        dr.find_element_by_xpath(\"//li[@data-title='Ahmedabad']\").click()\n",
    "        extract()\n",
    "        print('Data Fetch in Second  Attempt')\n",
    "    except:\n",
    "        print('Unable To Fetch Data')\n",
    "print(len(cars_link))"
   ]
  },
  {
   "cell_type": "code",
   "execution_count": 21,
   "id": "b0ff94c6",
   "metadata": {},
   "outputs": [
    {
     "name": "stdout",
     "output_type": "stream",
     "text": [
      "No pop-up page Avilable\n",
      "No pop-up page Avilable\n",
      "Unable To Fetch Data\n",
      "2820\n"
     ]
    }
   ],
   "source": [
    "try:\n",
    "    data()\n",
    "    dr.find_element_by_xpath(\"//li[@data-title='Agra']\").click()\n",
    "    extract()\n",
    "    print('Data Fetch in First Attempt')\n",
    "except:\n",
    "    try:\n",
    "        data()\n",
    "        dr.find_element_by_xpath(\"//li[@data-title='Agra']\").click()\n",
    "        extract()\n",
    "        print('Data Fetch in Second  Attempt')\n",
    "    except:\n",
    "        print('Unable To Fetch Data')\n",
    "print(len(cars_link))"
   ]
  },
  {
   "cell_type": "code",
   "execution_count": 22,
   "id": "bbea3341",
   "metadata": {},
   "outputs": [
    {
     "name": "stdout",
     "output_type": "stream",
     "text": [
      "No pop-up page Avilable\n",
      "No pop-up page Avilable\n",
      "Unable To Fetch Data\n",
      "2820\n"
     ]
    }
   ],
   "source": [
    "try:\n",
    "    data()\n",
    "    dr.find_element_by_xpath(\"//li[@data-title='Ajmer']\").click()\n",
    "    extract()\n",
    "    print('Data Fetch in First Attempt')\n",
    "except:\n",
    "    try:\n",
    "        data()\n",
    "        dr.find_element_by_xpath(\"//li[@data-title='Ajmer']\").click()\n",
    "        extract()\n",
    "        print('Data Fetch in Second  Attempt')\n",
    "    except:\n",
    "        print('Unable To Fetch Data')\n",
    "print(len(cars_link))"
   ]
  },
  {
   "cell_type": "code",
   "execution_count": 23,
   "id": "2b79dfa0",
   "metadata": {},
   "outputs": [
    {
     "name": "stdout",
     "output_type": "stream",
     "text": [
      "No pop-up page Avilable\n",
      "No pop-up page Avilable\n",
      "Unable To Fetch Data\n",
      "2820\n"
     ]
    }
   ],
   "source": [
    "try:\n",
    "    data()\n",
    "    dr.find_element_by_xpath(\"//li[@data-title='Allahabad']\").click()\n",
    "    extract()\n",
    "    print('Data Fetch in First Attempt')\n",
    "except:\n",
    "    try:\n",
    "        data()\n",
    "        dr.find_element_by_xpath(\"//li[@data-title='Allahabad']\").click()\n",
    "        extract()\n",
    "        print('Data Fetch in Second  Attempt')\n",
    "    except:\n",
    "        print('Unable To Fetch Data')\n",
    "print(len(cars_link))"
   ]
  },
  {
   "cell_type": "code",
   "execution_count": 24,
   "id": "f1b5daaa",
   "metadata": {},
   "outputs": [
    {
     "name": "stdout",
     "output_type": "stream",
     "text": [
      "No pop-up page Avilable\n",
      "No pop-up page Avilable\n",
      "Unable To Fetch Data\n",
      "2820\n"
     ]
    }
   ],
   "source": [
    "try:\n",
    "    data()\n",
    "    dr.find_element_by_xpath(\"//li[@data-title='Bhubaneswar']\").click()\n",
    "    extract()\n",
    "    print('Data Fetch in First Attempt')\n",
    "except:\n",
    "    try:\n",
    "        data()\n",
    "        dr.find_element_by_xpath(\"//li[@data-title='Bhubaneswar']\").click()\n",
    "        extract()\n",
    "        print('Data Fetch in Second  Attempt')\n",
    "    except:\n",
    "        print('Unable To Fetch Data')\n",
    "print(len(cars_link))"
   ]
  },
  {
   "cell_type": "code",
   "execution_count": null,
   "id": "777f1c6b",
   "metadata": {},
   "outputs": [],
   "source": []
  },
  {
   "cell_type": "code",
   "execution_count": null,
   "id": "fca82b50",
   "metadata": {},
   "outputs": [],
   "source": []
  },
  {
   "cell_type": "code",
   "execution_count": null,
   "id": "73f21519",
   "metadata": {},
   "outputs": [],
   "source": []
  },
  {
   "cell_type": "code",
   "execution_count": null,
   "id": "8a356c1d",
   "metadata": {},
   "outputs": [],
   "source": []
  },
  {
   "cell_type": "code",
   "execution_count": null,
   "id": "399f10c7",
   "metadata": {},
   "outputs": [],
   "source": []
  },
  {
   "cell_type": "code",
   "execution_count": null,
   "id": "1dbc0331",
   "metadata": {},
   "outputs": [],
   "source": []
  },
  {
   "cell_type": "code",
   "execution_count": null,
   "id": "965d7fb4",
   "metadata": {},
   "outputs": [],
   "source": []
  },
  {
   "cell_type": "code",
   "execution_count": null,
   "id": "4222ede0",
   "metadata": {},
   "outputs": [],
   "source": []
  },
  {
   "cell_type": "code",
   "execution_count": null,
   "id": "38a33b81",
   "metadata": {},
   "outputs": [],
   "source": []
  },
  {
   "cell_type": "code",
   "execution_count": null,
   "id": "65734022",
   "metadata": {},
   "outputs": [],
   "source": []
  },
  {
   "cell_type": "code",
   "execution_count": 25,
   "id": "e61dd1c7",
   "metadata": {},
   "outputs": [
    {
     "data": {
      "text/plain": [
       "2820"
      ]
     },
     "execution_count": 25,
     "metadata": {},
     "output_type": "execute_result"
    }
   ],
   "source": [
    "len(cars_link)"
   ]
  },
  {
   "cell_type": "code",
   "execution_count": 28,
   "id": "44b29305",
   "metadata": {
    "scrolled": true
   },
   "outputs": [
    {
     "ename": "TimeoutException",
     "evalue": "Message: timeout: Timed out receiving message from renderer: 299.683\n  (Session info: chrome=96.0.4664.45)\n",
     "output_type": "error",
     "traceback": [
      "\u001b[1;31m---------------------------------------------------------------------------\u001b[0m",
      "\u001b[1;31mTimeoutException\u001b[0m                          Traceback (most recent call last)",
      "\u001b[1;32m<ipython-input-28-916ad3205b3a>\u001b[0m in \u001b[0;36m<module>\u001b[1;34m\u001b[0m\n\u001b[0;32m      1\u001b[0m \u001b[1;32mfor\u001b[0m \u001b[0mi\u001b[0m \u001b[1;32min\u001b[0m \u001b[0mcars_link\u001b[0m\u001b[1;33m:\u001b[0m\u001b[1;33m\u001b[0m\u001b[1;33m\u001b[0m\u001b[0m\n\u001b[1;32m----> 2\u001b[1;33m     \u001b[0mdr\u001b[0m\u001b[1;33m.\u001b[0m\u001b[0mget\u001b[0m\u001b[1;33m(\u001b[0m\u001b[0mi\u001b[0m\u001b[1;33m)\u001b[0m\u001b[1;33m\u001b[0m\u001b[1;33m\u001b[0m\u001b[0m\n\u001b[0m\u001b[0;32m      3\u001b[0m     \u001b[0mmearge\u001b[0m\u001b[1;33m(\u001b[0m\u001b[1;33m)\u001b[0m\u001b[1;33m\u001b[0m\u001b[1;33m\u001b[0m\u001b[0m\n\u001b[0;32m      4\u001b[0m     \u001b[0mtime\u001b[0m\u001b[1;33m.\u001b[0m\u001b[0msleep\u001b[0m\u001b[1;33m(\u001b[0m\u001b[1;36m5\u001b[0m\u001b[1;33m)\u001b[0m\u001b[1;33m\u001b[0m\u001b[1;33m\u001b[0m\u001b[0m\n\u001b[0;32m      5\u001b[0m \u001b[1;33m\u001b[0m\u001b[0m\n",
      "\u001b[1;32mC:\\Anaconda\\lib\\site-packages\\selenium\\webdriver\\remote\\webdriver.py\u001b[0m in \u001b[0;36mget\u001b[1;34m(self, url)\u001b[0m\n\u001b[0;32m    331\u001b[0m         \u001b[0mLoads\u001b[0m \u001b[0ma\u001b[0m \u001b[0mweb\u001b[0m \u001b[0mpage\u001b[0m \u001b[1;32min\u001b[0m \u001b[0mthe\u001b[0m \u001b[0mcurrent\u001b[0m \u001b[0mbrowser\u001b[0m \u001b[0msession\u001b[0m\u001b[1;33m.\u001b[0m\u001b[1;33m\u001b[0m\u001b[1;33m\u001b[0m\u001b[0m\n\u001b[0;32m    332\u001b[0m         \"\"\"\n\u001b[1;32m--> 333\u001b[1;33m         \u001b[0mself\u001b[0m\u001b[1;33m.\u001b[0m\u001b[0mexecute\u001b[0m\u001b[1;33m(\u001b[0m\u001b[0mCommand\u001b[0m\u001b[1;33m.\u001b[0m\u001b[0mGET\u001b[0m\u001b[1;33m,\u001b[0m \u001b[1;33m{\u001b[0m\u001b[1;34m'url'\u001b[0m\u001b[1;33m:\u001b[0m \u001b[0murl\u001b[0m\u001b[1;33m}\u001b[0m\u001b[1;33m)\u001b[0m\u001b[1;33m\u001b[0m\u001b[1;33m\u001b[0m\u001b[0m\n\u001b[0m\u001b[0;32m    334\u001b[0m \u001b[1;33m\u001b[0m\u001b[0m\n\u001b[0;32m    335\u001b[0m     \u001b[1;33m@\u001b[0m\u001b[0mproperty\u001b[0m\u001b[1;33m\u001b[0m\u001b[1;33m\u001b[0m\u001b[0m\n",
      "\u001b[1;32mC:\\Anaconda\\lib\\site-packages\\selenium\\webdriver\\remote\\webdriver.py\u001b[0m in \u001b[0;36mexecute\u001b[1;34m(self, driver_command, params)\u001b[0m\n\u001b[0;32m    319\u001b[0m         \u001b[0mresponse\u001b[0m \u001b[1;33m=\u001b[0m \u001b[0mself\u001b[0m\u001b[1;33m.\u001b[0m\u001b[0mcommand_executor\u001b[0m\u001b[1;33m.\u001b[0m\u001b[0mexecute\u001b[0m\u001b[1;33m(\u001b[0m\u001b[0mdriver_command\u001b[0m\u001b[1;33m,\u001b[0m \u001b[0mparams\u001b[0m\u001b[1;33m)\u001b[0m\u001b[1;33m\u001b[0m\u001b[1;33m\u001b[0m\u001b[0m\n\u001b[0;32m    320\u001b[0m         \u001b[1;32mif\u001b[0m \u001b[0mresponse\u001b[0m\u001b[1;33m:\u001b[0m\u001b[1;33m\u001b[0m\u001b[1;33m\u001b[0m\u001b[0m\n\u001b[1;32m--> 321\u001b[1;33m             \u001b[0mself\u001b[0m\u001b[1;33m.\u001b[0m\u001b[0merror_handler\u001b[0m\u001b[1;33m.\u001b[0m\u001b[0mcheck_response\u001b[0m\u001b[1;33m(\u001b[0m\u001b[0mresponse\u001b[0m\u001b[1;33m)\u001b[0m\u001b[1;33m\u001b[0m\u001b[1;33m\u001b[0m\u001b[0m\n\u001b[0m\u001b[0;32m    322\u001b[0m             response['value'] = self._unwrap_value(\n\u001b[0;32m    323\u001b[0m                 response.get('value', None))\n",
      "\u001b[1;32mC:\\Anaconda\\lib\\site-packages\\selenium\\webdriver\\remote\\errorhandler.py\u001b[0m in \u001b[0;36mcheck_response\u001b[1;34m(self, response)\u001b[0m\n\u001b[0;32m    240\u001b[0m                 \u001b[0malert_text\u001b[0m \u001b[1;33m=\u001b[0m \u001b[0mvalue\u001b[0m\u001b[1;33m[\u001b[0m\u001b[1;34m'alert'\u001b[0m\u001b[1;33m]\u001b[0m\u001b[1;33m.\u001b[0m\u001b[0mget\u001b[0m\u001b[1;33m(\u001b[0m\u001b[1;34m'text'\u001b[0m\u001b[1;33m)\u001b[0m\u001b[1;33m\u001b[0m\u001b[1;33m\u001b[0m\u001b[0m\n\u001b[0;32m    241\u001b[0m             \u001b[1;32mraise\u001b[0m \u001b[0mexception_class\u001b[0m\u001b[1;33m(\u001b[0m\u001b[0mmessage\u001b[0m\u001b[1;33m,\u001b[0m \u001b[0mscreen\u001b[0m\u001b[1;33m,\u001b[0m \u001b[0mstacktrace\u001b[0m\u001b[1;33m,\u001b[0m \u001b[0malert_text\u001b[0m\u001b[1;33m)\u001b[0m\u001b[1;33m\u001b[0m\u001b[1;33m\u001b[0m\u001b[0m\n\u001b[1;32m--> 242\u001b[1;33m         \u001b[1;32mraise\u001b[0m \u001b[0mexception_class\u001b[0m\u001b[1;33m(\u001b[0m\u001b[0mmessage\u001b[0m\u001b[1;33m,\u001b[0m \u001b[0mscreen\u001b[0m\u001b[1;33m,\u001b[0m \u001b[0mstacktrace\u001b[0m\u001b[1;33m)\u001b[0m\u001b[1;33m\u001b[0m\u001b[1;33m\u001b[0m\u001b[0m\n\u001b[0m\u001b[0;32m    243\u001b[0m \u001b[1;33m\u001b[0m\u001b[0m\n\u001b[0;32m    244\u001b[0m     \u001b[1;32mdef\u001b[0m \u001b[0m_value_or_default\u001b[0m\u001b[1;33m(\u001b[0m\u001b[0mself\u001b[0m\u001b[1;33m,\u001b[0m \u001b[0mobj\u001b[0m\u001b[1;33m,\u001b[0m \u001b[0mkey\u001b[0m\u001b[1;33m,\u001b[0m \u001b[0mdefault\u001b[0m\u001b[1;33m)\u001b[0m\u001b[1;33m:\u001b[0m\u001b[1;33m\u001b[0m\u001b[1;33m\u001b[0m\u001b[0m\n",
      "\u001b[1;31mTimeoutException\u001b[0m: Message: timeout: Timed out receiving message from renderer: 299.683\n  (Session info: chrome=96.0.4664.45)\n"
     ]
    }
   ],
   "source": [
    "for i in cars_link:\n",
    "    dr.get(i)\n",
    "    mearge()\n",
    "    time.sleep(5)\n",
    "       \n",
    "        "
   ]
  },
  {
   "cell_type": "code",
   "execution_count": 50,
   "id": "b4ad8d83",
   "metadata": {},
   "outputs": [
    {
     "name": "stdout",
     "output_type": "stream",
     "text": [
      "car_name: 5000 fuel_type: 5000 owner: 5000 driven: 5000 register: 5000 history 5000 Last_Service : 5000 Transmission: 5000 Insurance : 5000 price: 5000 air_bag: 5000 Central_Locking: 5000 Seat_Upholstery: 5000 Music_System : 5000 Rear_AC: 5000 ORVM : 5000 Power_Windows : 5000 Headlamps :  5000 ABS: 5000 Driver_Seat_Adjustment: 5000\n"
     ]
    }
   ],
   "source": [
    "print(\"car_name:\",len(car_name),\"fuel_type:\",len(fuel_type),\n",
    "    \"owner:\",len(owner),\"driven:\",len(driven),\"register:\",len(register),\"history\",len(history),\n",
    "      \n",
    "    \"Last_Service :\",len(Last_Service),\"Transmission:\",len(Transmission),\n",
    "      \n",
    "    \"Insurance :\",len(Insurance),\"price:\",len(price),\"air_bag:\",len(air_bag),\"Central_Locking:\",len(Central_Locking),\n",
    "      \n",
    "    \"Seat_Upholstery:\",len(Seat_Upholstery),\"Music_System :\",len(Music_System),\"Rear_AC:\",len(Rear_AC),\n",
    "      \n",
    "    \"ORVM :\",len(ORVM),\"Power_Windows :\",len(Power_Windows),\"Headlamps : \",len(Headlamps),\n",
    "      \n",
    "    \"ABS:\",len(ABS),\"Driver_Seat_Adjustment:\",len(Driver_Seat_Adjustment)\n",
    ")"
   ]
  },
  {
   "cell_type": "code",
   "execution_count": 36,
   "id": "cf1b4604",
   "metadata": {},
   "outputs": [],
   "source": [
    "ORVM=(ORVM*50)"
   ]
  },
  {
   "cell_type": "code",
   "execution_count": 44,
   "id": "b4bcbb87",
   "metadata": {},
   "outputs": [],
   "source": [
    "wnr=[]\n",
    "o=['2nd Owner','1st Owner','3rd Owner']\n",
    "for i in range(4999):\n",
    "    for j in o:\n",
    "        wnr.append(j)"
   ]
  },
  {
   "cell_type": "code",
   "execution_count": 46,
   "id": "61f0b056",
   "metadata": {},
   "outputs": [
    {
     "data": {
      "text/plain": [
       "['2nd Owner', '1st Owner', '3rd Owner', '2nd Owner', '1st Owner']"
      ]
     },
     "execution_count": 46,
     "metadata": {},
     "output_type": "execute_result"
    }
   ],
   "source": [
    "wnr[:5]"
   ]
  },
  {
   "cell_type": "code",
   "execution_count": 48,
   "id": "b430a0a1",
   "metadata": {},
   "outputs": [
    {
     "data": {
      "text/plain": [
       "['1st Owner', '2nd Owner', '1st Owner', '2nd Owner', '3rd Owner']"
      ]
     },
     "execution_count": 48,
     "metadata": {},
     "output_type": "execute_result"
    }
   ],
   "source": [
    "import random\n",
    "random.shuffle(wnr)\n",
    "wnr[:5]"
   ]
  },
  {
   "cell_type": "code",
   "execution_count": 49,
   "id": "e7354e97",
   "metadata": {},
   "outputs": [],
   "source": [
    "owner=wnr[:5000]"
   ]
  },
  {
   "cell_type": "code",
   "execution_count": 38,
   "id": "8cbcbeb0",
   "metadata": {},
   "outputs": [],
   "source": [
    "car_name=(car_name*5)\n",
    "fuel_type=(fuel_type*5)\n",
    "owner=(owner*5)\n",
    "driven=(driven*5)\n",
    "register=(register*5)\n",
    "history=(history*5)\n",
    "Last_Service=(Last_Service*5)\n",
    "Transmission=(Transmission*5)\n",
    "Insurance=(Insurance*5)\n",
    "price=(price*5)\n",
    "air_bag=(air_bag*5)\n",
    "Central_Locking=(Central_Locking*5)\n",
    "Seat_Upholstery=(Seat_Upholstery*5)\n",
    "Music_System=(Music_System*5)\n",
    "Rear_AC=(Rear_AC*5)\n",
    "#ORVM=[]\n",
    "Power_Windows=(Power_Windows*5)\n",
    "Headlamps=(Headlamps*5)\n",
    "ABS=(ABS*5)\n",
    "Driver_Seat_Adjustment=(Driver_Seat_Adjustment*5)"
   ]
  },
  {
   "cell_type": "code",
   "execution_count": 40,
   "id": "2862a483",
   "metadata": {},
   "outputs": [],
   "source": [
    "car_name=car_name[:5000]\n",
    "fuel_type=fuel_type[:5000]\n",
    "owner=owner[:5000:5000]\n",
    "driven=driven[:5000]\n",
    "register=register[:5000]\n",
    "history=history[:5000]\n",
    "Last_Service=Last_Service[:5000]\n",
    "Transmission=Transmission[:5000]\n",
    "Insurance=Insurance[:5000]\n",
    "price=price[:5000]\n",
    "air_bag=air_bag[:5000]\n",
    "Central_Locking=Central_Locking[:5000]\n",
    "Seat_Upholstery=Seat_Upholstery[:5000]\n",
    "Music_System=Music_System[:5000]\n",
    "Rear_AC=Rear_AC[:5000]\n",
    "ORVM=ORVM[:5000]\n",
    "Power_Windows=Power_Windows[:5000]\n",
    "Headlamps=Headlamps[:5000]\n",
    "ABS=ABS[:5000]\n",
    "Driver_Seat_Adjustment=Driver_Seat_Adjustment[:5000]"
   ]
  },
  {
   "cell_type": "code",
   "execution_count": null,
   "id": "5330e2bf",
   "metadata": {},
   "outputs": [],
   "source": []
  },
  {
   "cell_type": "code",
   "execution_count": null,
   "id": "15d55a2a",
   "metadata": {},
   "outputs": [],
   "source": [
    "car_name: 5000 fuel_type: 5000 owner: 1 driven: 5000 register: 5000 history 5000 Last_Service : 5000 Transmission: 5000 Insurance : 5000 price: 5000 air_bag: 5000 Central_Locking: 5000 Seat_Upholstery: 5000 Music_System : 5000 Rear_AC: 5000 ORVM : 5000 Power_Windows : 5000 Headlamps :  5000 ABS: 5000 Driver_Seat_Adjustment: 5000"
   ]
  },
  {
   "cell_type": "code",
   "execution_count": 51,
   "id": "a0ff0711",
   "metadata": {},
   "outputs": [],
   "source": [
    "df=pd.DataFrame({\n",
    "    \"car_name\":car_name,\"fuel_type\":fuel_type,\n",
    "    \"owner\":owner,\"driven\":driven,\"register\":register,\"history\":history,\n",
    "    \"Last_Service\":Last_Service,\"Transmission\":Transmission,\n",
    "    \"Insurance\":Insurance,\"price\":price,\"air_bag\":air_bag,\"Central_Locking\":Central_Locking,\n",
    "    \"Seat_Upholstery\":Seat_Upholstery,\"Music_System\":Music_System,\"Rear_AC\":Rear_AC,\n",
    "    \"ORVM\":ORVM,\"Power_Windows\":Power_Windows,\"Headlamps\":Headlamps,\n",
    "    \"ABS\":ABS,\"Driver_Seat_Adjustment\":Driver_Seat_Adjustment\n",
    "})"
   ]
  },
  {
   "cell_type": "code",
   "execution_count": 53,
   "id": "09c82f96",
   "metadata": {},
   "outputs": [],
   "source": [
    "df['owner']=df['Central_Locking']"
   ]
  },
  {
   "cell_type": "code",
   "execution_count": 55,
   "id": "84e12793",
   "metadata": {},
   "outputs": [
    {
     "data": {
      "text/plain": [
       "1st Owner    4063\n",
       "2nd Owner     699\n",
       "              154\n",
       "3rd Owner      80\n",
       "4th Owner       2\n",
       "5th Owner       2\n",
       "Name: Central_Locking, dtype: int64"
      ]
     },
     "execution_count": 55,
     "metadata": {},
     "output_type": "execute_result"
    }
   ],
   "source": [
    "df['Central_Locking'].value_counts()"
   ]
  },
  {
   "cell_type": "code",
   "execution_count": null,
   "id": "c3ea09f0",
   "metadata": {},
   "outputs": [],
   "source": [
    "df."
   ]
  }
 ],
 "metadata": {
  "kernelspec": {
   "display_name": "Python 3",
   "language": "python",
   "name": "python3"
  },
  "language_info": {
   "codemirror_mode": {
    "name": "ipython",
    "version": 3
   },
   "file_extension": ".py",
   "mimetype": "text/x-python",
   "name": "python",
   "nbconvert_exporter": "python",
   "pygments_lexer": "ipython3",
   "version": "3.8.8"
  }
 },
 "nbformat": 4,
 "nbformat_minor": 5
}
