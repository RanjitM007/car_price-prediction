{
 "cells": [
  {
   "cell_type": "code",
   "execution_count": 2,
   "id": "4578a12f",
   "metadata": {},
   "outputs": [],
   "source": [
    "from cars24_function import *\n",
    "import pandas as pd\n",
    "import selenium\n",
    "from selenium import webdriver\n",
    "from selenium.common.exceptions import StaleElementReferenceException, NoSuchElementException,ElementClickInterceptedException\n",
    "import time"
   ]
  },
  {
   "cell_type": "code",
   "execution_count": 3,
   "id": "91b311e9",
   "metadata": {},
   "outputs": [],
   "source": [
    "#chorme_v=Version 96.0.4664.45 (Official Build) (64-bit)\n",
    "#driver_v=96.0.4664.45\n",
    "dr=webdriver.Chrome(r\"C:\\Users\\Ranjit M\\Downloads\\chromedriver_win32 (5)\\chromedriver.exe\")"
   ]
  },
  {
   "cell_type": "code",
   "execution_count": 4,
   "id": "db9f5f7b",
   "metadata": {},
   "outputs": [],
   "source": [
    "url=\"https://www.cars24.com/buy-used-cars/\"\n"
   ]
  },
  {
   "cell_type": "code",
   "execution_count": 5,
   "id": "cbafe3fa",
   "metadata": {},
   "outputs": [],
   "source": [
    "dr.get(url)\n",
    "time.sleep(10)"
   ]
  },
  {
   "cell_type": "code",
   "execution_count": 6,
   "id": "5c63eaf6",
   "metadata": {},
   "outputs": [],
   "source": [
    "#closing  the pop up screen\n",
    "pop=dr.find_element_by_xpath(\"//div[@class='float-right TBxAN']\")\n",
    "pop.click()"
   ]
  },
  {
   "cell_type": "code",
   "execution_count": 7,
   "id": "76189a2f",
   "metadata": {},
   "outputs": [],
   "source": [
    "#going to loaction page \n",
    "loc=dr.find_element_by_xpath(\"//div[@class='col-md-3 _2VocW']/p/span\")\n",
    "loc.click()"
   ]
  },
  {
   "cell_type": "code",
   "execution_count": 8,
   "id": "61c2e73a",
   "metadata": {},
   "outputs": [],
   "source": [
    "#collecting all citys name\n",
    "city_name=[]\n",
    "gct=dr.find_elements_by_xpath(\"//ul[@class='_16Bvy']/li\")\n",
    "for i in gct:\n",
    "    city_name.append(i.get_attribute('data-title'))\n",
    "#other city name\n",
    "other_ct=dr.find_elements_by_xpath(\"//div[@class='container p-0']/ul/div/li/span\")\n",
    "for i in other_ct:\n",
    "    city_name.append(i.text)\n",
    "\n",
    "    "
   ]
  },
  {
   "cell_type": "code",
   "execution_count": 29,
   "id": "73ba1338",
   "metadata": {},
   "outputs": [
    {
     "name": "stdout",
     "output_type": "stream",
     "text": [
      "['New Delhi', 'Noida', 'Gurgaon', 'Mumbai', 'Pune', 'Bengaluru', 'Hyderabad', 'Chennai', 'Kolkata', 'Ahmedabad', 'Agra', 'Ajmer', 'Allahabad', 'Alwar', 'Amritsar', 'Aurangabad', 'Bareilly', 'Bhopal', 'Bhubaneswar', 'Calicut', 'Chandigarh', 'Coimbatore', 'Dehradun', 'Dhanbad', 'Durgapur', 'Faridabad', 'Ghaziabad', 'Gorakhpur', 'Guwahati', 'Gwalior', 'Hisar', 'Hubli', 'Indore', 'Jabalpur', 'Jaipur', 'Jalandhar', 'Jamshedpur', 'Jodhpur', 'Kanpur', 'Kochi', 'Kolhapur', 'Kota', 'Kottayam', 'Lucknow', 'Ludhiana', 'Madurai', 'Mangalore', 'Meerut', 'Mohali', 'Mysore', 'Nagpur', 'Nasik', 'Panipat', 'Patna', 'Purnia', 'Raipur', 'Rajkot', 'Ramnagara', 'Ranchi', 'Rohtak', 'Salem', 'Siliguri', 'Sonipat', 'Surat', 'Thrissur', 'Tiruchirappalli', 'Trivandrum', 'Udaipur', 'Vadodara', 'Varanasi', 'Vijayawada', 'Visakhapatnam', 'Zirakpur']\n"
     ]
    }
   ],
   "source": [
    "print(city_name)"
   ]
  },
  {
   "cell_type": "code",
   "execution_count": 10,
   "id": "8ba7790c",
   "metadata": {},
   "outputs": [],
   "source": [
    "select_loc=dr.find_element_by_xpath(\"//li[@data-title='New Delhi']\")\n",
    "select_loc.click()\n",
    "#cliking on vew tab\n",
    "view_all=dr.find_element_by_xpath(\"//button[@class='btn  _2iiQB _3qpfi ']\")\n",
    "view_all.click()"
   ]
  },
  {
   "cell_type": "code",
   "execution_count": 11,
   "id": "592b3594",
   "metadata": {},
   "outputs": [],
   "source": [
    "cars_link=[]\n",
    "def scroll():\n",
    "    for _ in range(1000):\n",
    "        dr.execute_script(\"window.scrollBy(0,10000000)\")\n",
    "    all_cars=dr.find_elements_by_xpath(\"//div[@class='col-4']/a\")\n",
    "    for i in all_cars:\n",
    "        cars_link.append(i.get_attribute('href'))\n",
    "        \n",
    "scroll()"
   ]
  },
  {
   "cell_type": "code",
   "execution_count": 16,
   "id": "3d7590f5",
   "metadata": {},
   "outputs": [],
   "source": [
    "for i in cars_link[:2]:\n",
    "    dr.get(i)"
   ]
  },
  {
   "cell_type": "code",
   "execution_count": 17,
   "id": "7a6417ca",
   "metadata": {},
   "outputs": [],
   "source": [
    "car=[]\n",
    "car_name=[]\n",
    "fuel_type=[]\n",
    "owner=[]\n",
    "driven=[]\n",
    "register=[]\n",
    "history=[]\n",
    "Last_Service=[]\n",
    "Transmission=[]\n",
    "Insurance=[]\n",
    "price=[]"
   ]
  },
  {
   "cell_type": "markdown",
   "id": "462fe3e2",
   "metadata": {},
   "source": [
    "# Features"
   ]
  },
  {
   "cell_type": "markdown",
   "id": "b61210f3",
   "metadata": {},
   "source": [
    "# Features"
   ]
  },
  {
   "cell_type": "code",
   "execution_count": 18,
   "id": "74cf23dd",
   "metadata": {},
   "outputs": [],
   "source": [
    "Features=dr.find_element_by_xpath(\"//ul[@class='Qqw8W']/li[2]\")\n",
    "Features.click()"
   ]
  },
  {
   "cell_type": "code",
   "execution_count": 47,
   "id": "e590e127",
   "metadata": {},
   "outputs": [],
   "source": [
    "ftr.click()"
   ]
  },
  {
   "cell_type": "code",
   "execution_count": null,
   "id": "f1a54d5d",
   "metadata": {},
   "outputs": [],
   "source": [
    "air_bag=[]\n",
    "Central_Locking=[]\n",
    "Seat_Upholstery=[]\n",
    "Music_System=[]\n",
    "Rear_AC=[]\n",
    "ORVM=[]\n",
    "Power_Windows=[]\n",
    "Headlamps=[]\n",
    "ABS=[]\n",
    "Driver_Seat_Adjustment=[]\n",
    "def Features():\n",
    "    try:\n",
    "        air=dr.find_element_by_xpath(\"//li[1][@class='tHlIu']/strong\")\n",
    "        air_bag.append(air.text)\n",
    "    except NoSuchElementException:\n",
    "        air_bag.append('')\n",
    "    try:\n",
    "        cntrl=dr.find_element_by_xpath(\"//li[2][@class='tHlIu']/strong\")\n",
    "        Central_Locking.append(cntrl.text)\n",
    "    except NoSuchElementException:\n",
    "        Central_Locking.append('')\n",
    "    try:\n",
    "        Seat=dr.find_element_by_xpath(\"//li[3][@class='tHlIu']/strong\")\n",
    "        Seat_Upholstery.append(Seat.text)\n",
    "    except NoSuchElementException:\n",
    "        Seat_Upholstery.append('')\n",
    "    try:\n",
    "        Music=dr.find_element_by_xpath(\"//li[4][@class='tHlIu']/strong\")\n",
    "        Music_System.append(Music.text)\n",
    "    except NoSuchElementException:\n",
    "        Music_System.append('')\n",
    "    try:\n",
    "        ac=dr.find_element_by_xpath(\"//li[5][@class='tHlIu']/strong\")\n",
    "        Rear_AC.append(ac.text)\n",
    "    except NoSuchElementException:\n",
    "        Rear_AC.append('')\n",
    "    try:\n",
    "        ORVMs=dr.find_element_by_xpath(\"//li[6][@class='tHlIu']/strong\")\n",
    "        ORVM.append(ORVMs.text)\n",
    "    except NoSuchElementException:\n",
    "        ORVM.append('')\n",
    "    try:\n",
    "        Power_Wind=dr.find_element_by_xpath(\"//li[7][@class='tHlIu']/strong\")\n",
    "        Power_Wind.text\n",
    "    except NoSuchElementException:\n",
    "        Power_Wind.append('')\n",
    "    try:\n",
    "        head=dr.find_element_by_xpath(\"//li[8][@class='tHlIu']/strong\")\n",
    "        Headlamps.append(head.text)\n",
    "    except NoSuchElementException:\n",
    "        Headlamps.append('')\n",
    "    try:\n",
    "        ab=dr.find_element_by_xpath(\"//li[9][@class='tHlIu']/strong\")\n",
    "        ABS.append(ab.text)\n",
    "    except NoSuchElementException:\n",
    "        ABS.append('')\n",
    "    try:\n",
    "        dsa=dr.find_element_by_xpath(\"//li[10][@class='tHlIu']/strong\")\n",
    "        Driver_Seat_Adjustment.append(dsa.text)\n",
    "    except NoSuchElementException:\n",
    "        Driver_Seat_Adjustment.append('')\n",
    "        \n",
    "    \n",
    "        \n",
    "    "
   ]
  },
  {
   "cell_type": "markdown",
   "id": "f83fd755",
   "metadata": {},
   "source": [
    "# Airbags"
   ]
  },
  {
   "cell_type": "code",
   "execution_count": 28,
   "id": "95c99bf2",
   "metadata": {},
   "outputs": [
    {
     "data": {
      "text/plain": [
       "'Manual with Height Adjustment'"
      ]
     },
     "execution_count": 28,
     "metadata": {},
     "output_type": "execute_result"
    }
   ],
   "source": [
    "dsa=dr.find_element_by_xpath(\"//li[10][@class='tHlIu']/strong\")\n",
    "dsa.text"
   ]
  },
  {
   "cell_type": "code",
   "execution_count": null,
   "id": "5110fcaf",
   "metadata": {},
   "outputs": [],
   "source": []
  }
 ],
 "metadata": {
  "kernelspec": {
   "display_name": "Python 3",
   "language": "python",
   "name": "python3"
  },
  "language_info": {
   "codemirror_mode": {
    "name": "ipython",
    "version": 3
   },
   "file_extension": ".py",
   "mimetype": "text/x-python",
   "name": "python",
   "nbconvert_exporter": "python",
   "pygments_lexer": "ipython3",
   "version": "3.8.8"
  }
 },
 "nbformat": 4,
 "nbformat_minor": 5
}
